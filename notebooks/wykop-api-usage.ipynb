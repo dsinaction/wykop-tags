{
 "cells": [
  {
   "cell_type": "markdown",
   "source": [
    "# API Wykop"
   ],
   "metadata": {}
  },
  {
   "cell_type": "markdown",
   "source": [
    "## Setup"
   ],
   "metadata": {}
  },
  {
   "cell_type": "code",
   "execution_count": 1,
   "source": [
    "import requests\n",
    "import json\n",
    "import os"
   ],
   "outputs": [],
   "metadata": {}
  },
  {
   "cell_type": "code",
   "execution_count": 2,
   "source": [
    "from wykop.api import WykopAPI"
   ],
   "outputs": [],
   "metadata": {}
  },
  {
   "cell_type": "code",
   "execution_count": 3,
   "source": [
    "api_key = os.environ.get('WYKOP_API_KEY')\n",
    "api_secret = os.environ.get('WYKOP_API_SECRET')\n",
    "\n",
    "api = WykopAPI('Fkx58tD5tQ')"
   ],
   "outputs": [],
   "metadata": {}
  },
  {
   "cell_type": "markdown",
   "source": [
    "## Usage"
   ],
   "metadata": {}
  },
  {
   "cell_type": "markdown",
   "source": [
    "### Monthly Hits"
   ],
   "metadata": {}
  },
  {
   "cell_type": "code",
   "execution_count": 20,
   "source": [
    "links = api.get_hits_month(year=2020, month=10)\n",
    "\n",
    "print(f'Loaded {len(links[\"data\"])} links.')"
   ],
   "outputs": [
    {
     "output_type": "stream",
     "name": "stdout",
     "text": [
      "Loaded 25 links.\n"
     ]
    }
   ],
   "metadata": {}
  },
  {
   "cell_type": "code",
   "execution_count": 22,
   "source": [
    "links['data'][0]"
   ],
   "outputs": [
    {
     "output_type": "execute_result",
     "data": {
      "text/plain": [
       "{'id': 5756293,\n",
       " 'title': 'Trybunał Konstytucyjny: tzw. &quot;aborcja eugeniczna&quot; jest niezgodna z konstytucją',\n",
       " 'description': 'Trybunał Konstytucyjny ogłosił, że przepisy, umożliwiające usunięcie płodu w wypadku stwierdzenia jego ciężkiego uszkodzenia lub nieuleczalnej choroby - są niezgodne z konstytucją. Wyrok zapadł większością głosów sędziów TK. Zdania odrębne zgłosili sędziowie Piotr Pszczółkowski oraz Leon Kieres.',\n",
       " 'tags': '#polska #prawo #aborcja #bekazpisu #neuropa',\n",
       " 'source_url': 'https://twitter.com/RMF24pl/status/1319272096409608194',\n",
       " 'vote_count': 13914,\n",
       " 'bury_count': 49,\n",
       " 'comments_count': 2054,\n",
       " 'related_count': 34,\n",
       " 'date': '2020-10-22 15:40:31',\n",
       " 'author': {'login': 'Szewczenko',\n",
       "  'color': 2,\n",
       "  'sex': 'male',\n",
       "  'avatar': 'https://www.wykop.pl/cdn/c3397992/avatar_def,q150.png'},\n",
       " 'preview': 'https://www.wykop.pl/cdn/c3397993/link_1603374077fbetYlePyRVvSWPc6NtrKh,w104h74.jpg',\n",
       " 'plus18': False,\n",
       " 'status': 'promoted',\n",
       " 'can_vote': True,\n",
       " 'is_hot': True}"
      ]
     },
     "metadata": {},
     "execution_count": 22
    }
   ],
   "metadata": {}
  },
  {
   "cell_type": "markdown",
   "source": [
    "#### Load all monthly hints"
   ],
   "metadata": {}
  },
  {
   "cell_type": "code",
   "execution_count": 32,
   "source": [
    "links = {}\n",
    "\n",
    "page = 1\n",
    "print(f'Fetching links ', end='')\n",
    "while True:\n",
    "    print('.', end='')\n",
    "    response = api.get_hits_month(2012, 1, page=page)    \n",
    "    new_links = { link['id']: link for link in response['data'] if link['id'] not in links }\n",
    "    if not new_links: break\n",
    "    links.update(new_links)\n",
    "    page += 1\n",
    "\n",
    "links = list(links.values())\n",
    "print(f'\\nFetched {len(links)} links.')"
   ],
   "outputs": [
    {
     "output_type": "stream",
     "name": "stdout",
     "text": [
      "Fetching links ..................................................................................\n",
      "Fetched 2005 links.\n"
     ]
    }
   ],
   "metadata": {}
  }
 ],
 "metadata": {
  "kernelspec": {
   "name": "python3",
   "display_name": "Python 3.8.10 64-bit ('venv': virtualenv)"
  },
  "language_info": {
   "codemirror_mode": {
    "name": "ipython",
    "version": 3
   },
   "file_extension": ".py",
   "mimetype": "text/x-python",
   "name": "python",
   "nbconvert_exporter": "python",
   "pygments_lexer": "ipython3",
   "version": "3.8.10"
  },
  "interpreter": {
   "hash": "234414f240a7bf73fd36fbff4cb2de567ab183bc8b392ccfbcb89b5469d3e607"
  }
 },
 "nbformat": 4,
 "nbformat_minor": 5
}