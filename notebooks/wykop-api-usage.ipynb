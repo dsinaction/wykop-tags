{
 "cells": [
  {
   "cell_type": "markdown",
   "id": "336ce10f",
   "metadata": {},
   "source": [
    "# API Wykop"
   ]
  },
  {
   "cell_type": "markdown",
   "id": "a7ae541b",
   "metadata": {},
   "source": [
    "## Setup"
   ]
  },
  {
   "cell_type": "code",
   "execution_count": 1,
   "id": "6d5dfb92",
   "metadata": {},
   "outputs": [],
   "source": [
    "import requests\n",
    "import json\n",
    "import os"
   ]
  },
  {
   "cell_type": "code",
   "execution_count": 2,
   "id": "4e8d81a7",
   "metadata": {},
   "outputs": [],
   "source": [
    "from wykop.api import WykopAPI"
   ]
  },
  {
   "cell_type": "code",
   "execution_count": 5,
   "id": "7052d53d",
   "metadata": {},
   "outputs": [],
   "source": [
    "api_key = os.environ.get('WYKOP_API_KEY')\n",
    "api = WykopAPI(api_key)"
   ]
  },
  {
   "cell_type": "markdown",
   "id": "151e5449",
   "metadata": {},
   "source": [
    "## HTTP Request"
   ]
  },
  {
   "cell_type": "code",
   "execution_count": 25,
   "id": "d8582c0a",
   "metadata": {},
   "outputs": [],
   "source": [
    "url = f'https://a2.wykop.pl/Hits/Month/2012/5/appkey/{api_key}'\n",
    "\n",
    "response = requests.get(url)\n",
    "data = response.json()\n",
    "links = data['data']"
   ]
  },
  {
   "cell_type": "code",
   "execution_count": 26,
   "id": "0c69ac79",
   "metadata": {},
   "outputs": [
    {
     "data": {
      "text/plain": [
       "25"
      ]
     },
     "execution_count": 26,
     "metadata": {},
     "output_type": "execute_result"
    }
   ],
   "source": [
    "len(links)"
   ]
  },
  {
   "cell_type": "code",
   "execution_count": 27,
   "id": "57f4f964",
   "metadata": {},
   "outputs": [
    {
     "data": {
      "text/plain": [
       "{'id': 1142563,\n",
       " 'title': ' Właściciel bezradny w walce ze złodziejami !!',\n",
       " 'description': \"ZAPAMIĘTAJCIE TE MORDY ! Właściciel małego sklepu spożywczego jest regularnie okradany przez idiotów którzy myślą, że im wszystko wolno. Policja nic z tym nie robi z powodu ''Niskiej szkodliwości czynu''. Właściciel w akcie bezradności wrzuca filmy do internetu i prosi o pomoc.\",\n",
       " 'tags': '#wykop #wykopefekt #zlodzieje #poznan',\n",
       " 'source_url': 'http://www.wykop.pl/artykul/1142563/wykop-efekt-potrzebny-wlasciciel-bezradny-w-walce-ze-zlodziejami/',\n",
       " 'vote_count': 3384,\n",
       " 'bury_count': 3,\n",
       " 'comments_count': 483,\n",
       " 'related_count': 8,\n",
       " 'date': '2012-05-18 22:12:56',\n",
       " 'author': {'login': 'l.....x',\n",
       "  'color': 1002,\n",
       "  'sex': 'male',\n",
       "  'avatar': 'https://www.wykop.pl/cdn/c3397992/avatar_def,q150.png'},\n",
       " 'preview': 'https://www.wykop.pl/cdn/c3397993/link_0yctjN7QwzcMh39jHDdMhHlCzg2FA5t2,w104h74.jpg',\n",
       " 'plus18': False,\n",
       " 'status': 'promoted',\n",
       " 'can_vote': True,\n",
       " 'is_hot': True,\n",
       " 'archived': True}"
      ]
     },
     "execution_count": 27,
     "metadata": {},
     "output_type": "execute_result"
    }
   ],
   "source": [
    "links[0]"
   ]
  },
  {
   "cell_type": "markdown",
   "id": "43eb3395",
   "metadata": {},
   "source": [
    "## API Usage"
   ]
  },
  {
   "cell_type": "markdown",
   "id": "84e5c856",
   "metadata": {},
   "source": [
    "### Monthly Hits"
   ]
  },
  {
   "cell_type": "code",
   "execution_count": 7,
   "id": "ba64ecc6",
   "metadata": {},
   "outputs": [
    {
     "name": "stdout",
     "output_type": "stream",
     "text": [
      "Loaded 25 links.\n"
     ]
    }
   ],
   "source": [
    "links = api.get_hits_month(year=2020, month=10, page=1)\n",
    "\n",
    "print(f'Loaded {len(links[\"data\"])} links.')"
   ]
  },
  {
   "cell_type": "code",
   "execution_count": 8,
   "id": "f9fa113a",
   "metadata": {},
   "outputs": [
    {
     "data": {
      "text/plain": [
       "{'id': 5756293,\n",
       " 'title': 'Trybunał Konstytucyjny: tzw. &quot;aborcja eugeniczna&quot; jest niezgodna z konstytucją',\n",
       " 'description': 'Trybunał Konstytucyjny ogłosił, że przepisy, umożliwiające usunięcie płodu w wypadku stwierdzenia jego ciężkiego uszkodzenia lub nieuleczalnej choroby - są niezgodne z konstytucją. Wyrok zapadł większością głosów sędziów TK. Zdania odrębne zgłosili sędziowie Piotr Pszczółkowski oraz Leon Kieres.',\n",
       " 'tags': '#polska #prawo #aborcja #bekazpisu #neuropa',\n",
       " 'source_url': 'https://twitter.com/RMF24pl/status/1319272096409608194',\n",
       " 'vote_count': 13914,\n",
       " 'bury_count': 49,\n",
       " 'comments_count': 2054,\n",
       " 'related_count': 34,\n",
       " 'date': '2020-10-22 15:40:31',\n",
       " 'author': {'login': 'Szewczenko',\n",
       "  'color': 2,\n",
       "  'sex': 'male',\n",
       "  'avatar': 'https://www.wykop.pl/cdn/c3397992/avatar_def,q150.png'},\n",
       " 'preview': 'https://www.wykop.pl/cdn/c3397993/link_1603374077fbetYlePyRVvSWPc6NtrKh,w104h74.jpg',\n",
       " 'plus18': False,\n",
       " 'status': 'promoted',\n",
       " 'can_vote': True,\n",
       " 'is_hot': True}"
      ]
     },
     "execution_count": 8,
     "metadata": {},
     "output_type": "execute_result"
    }
   ],
   "source": [
    "links['data'][0]"
   ]
  },
  {
   "cell_type": "markdown",
   "id": "59833f69",
   "metadata": {},
   "source": [
    "#### Load all monthly hints"
   ]
  },
  {
   "cell_type": "code",
   "execution_count": 32,
   "id": "90873682",
   "metadata": {},
   "outputs": [
    {
     "name": "stdout",
     "output_type": "stream",
     "text": [
      "Fetching links ..................................................................................\n",
      "Fetched 2005 links.\n"
     ]
    }
   ],
   "source": [
    "links = {}\n",
    "\n",
    "page = 1\n",
    "print(f'Fetching links ', end='')\n",
    "while True:\n",
    "    print('.', end='')\n",
    "    response = api.get_hits_month(2012, 1, page=page)    \n",
    "    new_links = { link['id']: link for link in response['data'] if link['id'] not in links }\n",
    "    if not new_links: break\n",
    "    links.update(new_links)\n",
    "    page += 1\n",
    "\n",
    "links = list(links.values())\n",
    "print(f'\\nFetched {len(links)} links.')"
   ]
  },
  {
   "cell_type": "markdown",
   "id": "19cf649a",
   "metadata": {},
   "source": [
    "### Top Links"
   ]
  },
  {
   "cell_type": "code",
   "execution_count": 9,
   "id": "11d02def",
   "metadata": {},
   "outputs": [
    {
     "name": "stdout",
     "output_type": "stream",
     "text": [
      "Loaded 25 links.\n"
     ]
    }
   ],
   "source": [
    "links = api.get_top_links(year=2020, month=2)\n",
    "\n",
    "print(f'Loaded {len(links[\"data\"])} links.')"
   ]
  },
  {
   "cell_type": "code",
   "execution_count": 11,
   "id": "8facf1a7",
   "metadata": {},
   "outputs": [
    {
     "data": {
      "text/plain": [
       "{'id': 5338991,\n",
       " 'title': 'Nowy lektor tvpis',\n",
       " 'description': 'Na to poszły te 2 milardy, zamiast na onkologie.',\n",
       " 'tags': '#tvpis #bekazpisu #paskigrozy #tvp #heheszki',\n",
       " 'source_url': 'https://streamable.com/cxvty',\n",
       " 'vote_count': 7752,\n",
       " 'bury_count': 41,\n",
       " 'comments_count': 600,\n",
       " 'related_count': 12,\n",
       " 'date': '2020-02-16 20:02:35',\n",
       " 'author': {'login': 'szymi5341',\n",
       "  'color': 1,\n",
       "  'sex': 'male',\n",
       "  'avatar': 'https://www.wykop.pl/cdn/c3397992/szymi5341_M959H05INd,q150.jpg'},\n",
       " 'preview': 'https://www.wykop.pl/cdn/c3397993/link_1581879756FnTEuGqniv0NmJybpfYgVA,w104h74.jpg',\n",
       " 'plus18': False,\n",
       " 'status': 'promoted',\n",
       " 'can_vote': True,\n",
       " 'is_hot': True,\n",
       " 'app': 'Android'}"
      ]
     },
     "execution_count": 11,
     "metadata": {},
     "output_type": "execute_result"
    }
   ],
   "source": [
    "links['data'][0]"
   ]
  },
  {
   "cell_type": "markdown",
   "id": "12c81f03",
   "metadata": {},
   "source": [
    "### Link comments"
   ]
  },
  {
   "cell_type": "code",
   "execution_count": 13,
   "id": "be898aea",
   "metadata": {},
   "outputs": [],
   "source": [
    "comments = api.get_comments(5338991)"
   ]
  },
  {
   "cell_type": "code",
   "execution_count": 15,
   "id": "1d62357c",
   "metadata": {},
   "outputs": [
    {
     "data": {
      "text/plain": [
       "{'id': 73503489,\n",
       " 'date': '2020-02-16 20:03:53',\n",
       " 'author': {'login': 'depeszowiec',\n",
       "  'color': 1,\n",
       "  'sex': 'male',\n",
       "  'avatar': 'https://www.wykop.pl/cdn/c3397992/depeszowiec_ytQMtLvj3n,q150.jpg'},\n",
       " 'vote_count': 1935,\n",
       " 'vote_count_plus': 1958,\n",
       " 'body': 'Do tej pory nie mogę rozchodzić tej żenady (╯︵╰,)<br />\\nCo mnie skusiło aby włączyć tvrak?',\n",
       " 'parent_id': 73503489,\n",
       " 'can_vote': True,\n",
       " 'user_vote': 0,\n",
       " 'blocked': False,\n",
       " 'favorite': False,\n",
       " 'link_id': '5338991',\n",
       " 'app': 'Android'}"
      ]
     },
     "execution_count": 15,
     "metadata": {},
     "output_type": "execute_result"
    }
   ],
   "source": [
    "comments['data'][0]"
   ]
  }
 ],
 "metadata": {
  "interpreter": {
   "hash": "234414f240a7bf73fd36fbff4cb2de567ab183bc8b392ccfbcb89b5469d3e607"
  },
  "kernelspec": {
   "display_name": "Python 3 (ipykernel)",
   "language": "python",
   "name": "python3"
  },
  "language_info": {
   "codemirror_mode": {
    "name": "ipython",
    "version": 3
   },
   "file_extension": ".py",
   "mimetype": "text/x-python",
   "name": "python",
   "nbconvert_exporter": "python",
   "pygments_lexer": "ipython3",
   "version": "3.8.10"
  }
 },
 "nbformat": 4,
 "nbformat_minor": 5
}
